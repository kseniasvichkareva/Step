{
  "nbformat": 4,
  "nbformat_minor": 0,
  "metadata": {
    "colab": {
      "provenance": [],
      "authorship_tag": "ABX9TyOCYW3D1Sh08PJI1QT0/MBa",
      "include_colab_link": true
    },
    "kernelspec": {
      "name": "python3",
      "display_name": "Python 3"
    },
    "language_info": {
      "name": "python"
    }
  },
  "cells": [
    {
      "cell_type": "markdown",
      "metadata": {
        "id": "view-in-github",
        "colab_type": "text"
      },
      "source": [
        "<a href=\"https://colab.research.google.com/github/kseniasvichkareva/Step/blob/main/%D0%94%D0%9719.ipynb\" target=\"_parent\"><img src=\"https://colab.research.google.com/assets/colab-badge.svg\" alt=\"Open In Colab\"/></a>"
      ]
    },
    {
      "cell_type": "code",
      "execution_count": 1,
      "metadata": {
        "id": "wfmun8BzKqbT"
      },
      "outputs": [],
      "source": [
        "import pandas as pd\n",
        "data = pd.read_csv('netflix_titles.csv')"
      ]
    },
    {
      "cell_type": "code",
      "source": [
        "data.info()"
      ],
      "metadata": {
        "colab": {
          "base_uri": "https://localhost:8080/"
        },
        "id": "Rdc4JtZJv3lc",
        "outputId": "33a9373f-6eb4-4646-b4b2-3b8e5c514499"
      },
      "execution_count": 2,
      "outputs": [
        {
          "output_type": "stream",
          "name": "stdout",
          "text": [
            "<class 'pandas.core.frame.DataFrame'>\n",
            "RangeIndex: 8807 entries, 0 to 8806\n",
            "Data columns (total 12 columns):\n",
            " #   Column        Non-Null Count  Dtype \n",
            "---  ------        --------------  ----- \n",
            " 0   show_id       8807 non-null   object\n",
            " 1   type          8807 non-null   object\n",
            " 2   title         8807 non-null   object\n",
            " 3   director      6173 non-null   object\n",
            " 4   cast          7982 non-null   object\n",
            " 5   country       7976 non-null   object\n",
            " 6   date_added    8797 non-null   object\n",
            " 7   release_year  8807 non-null   int64 \n",
            " 8   rating        8803 non-null   object\n",
            " 9   duration      8804 non-null   object\n",
            " 10  listed_in     8807 non-null   object\n",
            " 11  description   8807 non-null   object\n",
            "dtypes: int64(1), object(11)\n",
            "memory usage: 825.8+ KB\n"
          ]
        }
      ]
    }
  ]
}